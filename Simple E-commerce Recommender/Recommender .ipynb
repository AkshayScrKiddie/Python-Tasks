{
  "nbformat": 4,
  "nbformat_minor": 0,
  "metadata": {
    "colab": {
      "name": "Recommender.ipynb",
      "provenance": [],
      "collapsed_sections": []
    },
    "kernelspec": {
      "name": "python3",
      "display_name": "Python 3"
    }
  },
  "cells": [
    {
      "cell_type": "code",
      "metadata": {
        "id": "MT5b_zCruo9j",
        "colab_type": "code",
        "colab": {}
      },
      "source": [
        "import pandas as pd \n",
        "import matplotlib.pyplot as plt\n",
        "import numpy as np"
      ],
      "execution_count": 114,
      "outputs": []
    },
    {
      "cell_type": "markdown",
      "metadata": {
        "id": "Ak4voL9ZA0zH",
        "colab_type": "text"
      },
      "source": [
        "#Extracted data from amazon_transactions with address as San Fransisco using Filter in excel and uploading "
      ]
    },
    {
      "cell_type": "code",
      "metadata": {
        "id": "bpUqzxTpvFwb",
        "colab_type": "code",
        "colab": {
          "resources": {
            "http://localhost:8080/nbextensions/google.colab/files.js": {
              "data": "Ly8gQ29weXJpZ2h0IDIwMTcgR29vZ2xlIExMQwovLwovLyBMaWNlbnNlZCB1bmRlciB0aGUgQXBhY2hlIExpY2Vuc2UsIFZlcnNpb24gMi4wICh0aGUgIkxpY2Vuc2UiKTsKLy8geW91IG1heSBub3QgdXNlIHRoaXMgZmlsZSBleGNlcHQgaW4gY29tcGxpYW5jZSB3aXRoIHRoZSBMaWNlbnNlLgovLyBZb3UgbWF5IG9idGFpbiBhIGNvcHkgb2YgdGhlIExpY2Vuc2UgYXQKLy8KLy8gICAgICBodHRwOi8vd3d3LmFwYWNoZS5vcmcvbGljZW5zZXMvTElDRU5TRS0yLjAKLy8KLy8gVW5sZXNzIHJlcXVpcmVkIGJ5IGFwcGxpY2FibGUgbGF3IG9yIGFncmVlZCB0byBpbiB3cml0aW5nLCBzb2Z0d2FyZQovLyBkaXN0cmlidXRlZCB1bmRlciB0aGUgTGljZW5zZSBpcyBkaXN0cmlidXRlZCBvbiBhbiAiQVMgSVMiIEJBU0lTLAovLyBXSVRIT1VUIFdBUlJBTlRJRVMgT1IgQ09ORElUSU9OUyBPRiBBTlkgS0lORCwgZWl0aGVyIGV4cHJlc3Mgb3IgaW1wbGllZC4KLy8gU2VlIHRoZSBMaWNlbnNlIGZvciB0aGUgc3BlY2lmaWMgbGFuZ3VhZ2UgZ292ZXJuaW5nIHBlcm1pc3Npb25zIGFuZAovLyBsaW1pdGF0aW9ucyB1bmRlciB0aGUgTGljZW5zZS4KCi8qKgogKiBAZmlsZW92ZXJ2aWV3IEhlbHBlcnMgZm9yIGdvb2dsZS5jb2xhYiBQeXRob24gbW9kdWxlLgogKi8KKGZ1bmN0aW9uKHNjb3BlKSB7CmZ1bmN0aW9uIHNwYW4odGV4dCwgc3R5bGVBdHRyaWJ1dGVzID0ge30pIHsKICBjb25zdCBlbGVtZW50ID0gZG9jdW1lbnQuY3JlYXRlRWxlbWVudCgnc3BhbicpOwogIGVsZW1lbnQudGV4dENvbnRlbnQgPSB0ZXh0OwogIGZvciAoY29uc3Qga2V5IG9mIE9iamVjdC5rZXlzKHN0eWxlQXR0cmlidXRlcykpIHsKICAgIGVsZW1lbnQuc3R5bGVba2V5XSA9IHN0eWxlQXR0cmlidXRlc1trZXldOwogIH0KICByZXR1cm4gZWxlbWVudDsKfQoKLy8gTWF4IG51bWJlciBvZiBieXRlcyB3aGljaCB3aWxsIGJlIHVwbG9hZGVkIGF0IGEgdGltZS4KY29uc3QgTUFYX1BBWUxPQURfU0laRSA9IDEwMCAqIDEwMjQ7CgpmdW5jdGlvbiBfdXBsb2FkRmlsZXMoaW5wdXRJZCwgb3V0cHV0SWQpIHsKICBjb25zdCBzdGVwcyA9IHVwbG9hZEZpbGVzU3RlcChpbnB1dElkLCBvdXRwdXRJZCk7CiAgY29uc3Qgb3V0cHV0RWxlbWVudCA9IGRvY3VtZW50LmdldEVsZW1lbnRCeUlkKG91dHB1dElkKTsKICAvLyBDYWNoZSBzdGVwcyBvbiB0aGUgb3V0cHV0RWxlbWVudCB0byBtYWtlIGl0IGF2YWlsYWJsZSBmb3IgdGhlIG5leHQgY2FsbAogIC8vIHRvIHVwbG9hZEZpbGVzQ29udGludWUgZnJvbSBQeXRob24uCiAgb3V0cHV0RWxlbWVudC5zdGVwcyA9IHN0ZXBzOwoKICByZXR1cm4gX3VwbG9hZEZpbGVzQ29udGludWUob3V0cHV0SWQpOwp9CgovLyBUaGlzIGlzIHJvdWdobHkgYW4gYXN5bmMgZ2VuZXJhdG9yIChub3Qgc3VwcG9ydGVkIGluIHRoZSBicm93c2VyIHlldCksCi8vIHdoZXJlIHRoZXJlIGFyZSBtdWx0aXBsZSBhc3luY2hyb25vdXMgc3RlcHMgYW5kIHRoZSBQeXRob24gc2lkZSBpcyBnb2luZwovLyB0byBwb2xsIGZvciBjb21wbGV0aW9uIG9mIGVhY2ggc3RlcC4KLy8gVGhpcyB1c2VzIGEgUHJvbWlzZSB0byBibG9jayB0aGUgcHl0aG9uIHNpZGUgb24gY29tcGxldGlvbiBvZiBlYWNoIHN0ZXAsCi8vIHRoZW4gcGFzc2VzIHRoZSByZXN1bHQgb2YgdGhlIHByZXZpb3VzIHN0ZXAgYXMgdGhlIGlucHV0IHRvIHRoZSBuZXh0IHN0ZXAuCmZ1bmN0aW9uIF91cGxvYWRGaWxlc0NvbnRpbnVlKG91dHB1dElkKSB7CiAgY29uc3Qgb3V0cHV0RWxlbWVudCA9IGRvY3VtZW50LmdldEVsZW1lbnRCeUlkKG91dHB1dElkKTsKICBjb25zdCBzdGVwcyA9IG91dHB1dEVsZW1lbnQuc3RlcHM7CgogIGNvbnN0IG5leHQgPSBzdGVwcy5uZXh0KG91dHB1dEVsZW1lbnQubGFzdFByb21pc2VWYWx1ZSk7CiAgcmV0dXJuIFByb21pc2UucmVzb2x2ZShuZXh0LnZhbHVlLnByb21pc2UpLnRoZW4oKHZhbHVlKSA9PiB7CiAgICAvLyBDYWNoZSB0aGUgbGFzdCBwcm9taXNlIHZhbHVlIHRvIG1ha2UgaXQgYXZhaWxhYmxlIHRvIHRoZSBuZXh0CiAgICAvLyBzdGVwIG9mIHRoZSBnZW5lcmF0b3IuCiAgICBvdXRwdXRFbGVtZW50Lmxhc3RQcm9taXNlVmFsdWUgPSB2YWx1ZTsKICAgIHJldHVybiBuZXh0LnZhbHVlLnJlc3BvbnNlOwogIH0pOwp9CgovKioKICogR2VuZXJhdG9yIGZ1bmN0aW9uIHdoaWNoIGlzIGNhbGxlZCBiZXR3ZWVuIGVhY2ggYXN5bmMgc3RlcCBvZiB0aGUgdXBsb2FkCiAqIHByb2Nlc3MuCiAqIEBwYXJhbSB7c3RyaW5nfSBpbnB1dElkIEVsZW1lbnQgSUQgb2YgdGhlIGlucHV0IGZpbGUgcGlja2VyIGVsZW1lbnQuCiAqIEBwYXJhbSB7c3RyaW5nfSBvdXRwdXRJZCBFbGVtZW50IElEIG9mIHRoZSBvdXRwdXQgZGlzcGxheS4KICogQHJldHVybiB7IUl0ZXJhYmxlPCFPYmplY3Q+fSBJdGVyYWJsZSBvZiBuZXh0IHN0ZXBzLgogKi8KZnVuY3Rpb24qIHVwbG9hZEZpbGVzU3RlcChpbnB1dElkLCBvdXRwdXRJZCkgewogIGNvbnN0IGlucHV0RWxlbWVudCA9IGRvY3VtZW50LmdldEVsZW1lbnRCeUlkKGlucHV0SWQpOwogIGlucHV0RWxlbWVudC5kaXNhYmxlZCA9IGZhbHNlOwoKICBjb25zdCBvdXRwdXRFbGVtZW50ID0gZG9jdW1lbnQuZ2V0RWxlbWVudEJ5SWQob3V0cHV0SWQpOwogIG91dHB1dEVsZW1lbnQuaW5uZXJIVE1MID0gJyc7CgogIGNvbnN0IHBpY2tlZFByb21pc2UgPSBuZXcgUHJvbWlzZSgocmVzb2x2ZSkgPT4gewogICAgaW5wdXRFbGVtZW50LmFkZEV2ZW50TGlzdGVuZXIoJ2NoYW5nZScsIChlKSA9PiB7CiAgICAgIHJlc29sdmUoZS50YXJnZXQuZmlsZXMpOwogICAgfSk7CiAgfSk7CgogIGNvbnN0IGNhbmNlbCA9IGRvY3VtZW50LmNyZWF0ZUVsZW1lbnQoJ2J1dHRvbicpOwogIGlucHV0RWxlbWVudC5wYXJlbnRFbGVtZW50LmFwcGVuZENoaWxkKGNhbmNlbCk7CiAgY2FuY2VsLnRleHRDb250ZW50ID0gJ0NhbmNlbCB1cGxvYWQnOwogIGNvbnN0IGNhbmNlbFByb21pc2UgPSBuZXcgUHJvbWlzZSgocmVzb2x2ZSkgPT4gewogICAgY2FuY2VsLm9uY2xpY2sgPSAoKSA9PiB7CiAgICAgIHJlc29sdmUobnVsbCk7CiAgICB9OwogIH0pOwoKICAvLyBXYWl0IGZvciB0aGUgdXNlciB0byBwaWNrIHRoZSBmaWxlcy4KICBjb25zdCBmaWxlcyA9IHlpZWxkIHsKICAgIHByb21pc2U6IFByb21pc2UucmFjZShbcGlja2VkUHJvbWlzZSwgY2FuY2VsUHJvbWlzZV0pLAogICAgcmVzcG9uc2U6IHsKICAgICAgYWN0aW9uOiAnc3RhcnRpbmcnLAogICAgfQogIH07CgogIGNhbmNlbC5yZW1vdmUoKTsKCiAgLy8gRGlzYWJsZSB0aGUgaW5wdXQgZWxlbWVudCBzaW5jZSBmdXJ0aGVyIHBpY2tzIGFyZSBub3QgYWxsb3dlZC4KICBpbnB1dEVsZW1lbnQuZGlzYWJsZWQgPSB0cnVlOwoKICBpZiAoIWZpbGVzKSB7CiAgICByZXR1cm4gewogICAgICByZXNwb25zZTogewogICAgICAgIGFjdGlvbjogJ2NvbXBsZXRlJywKICAgICAgfQogICAgfTsKICB9CgogIGZvciAoY29uc3QgZmlsZSBvZiBmaWxlcykgewogICAgY29uc3QgbGkgPSBkb2N1bWVudC5jcmVhdGVFbGVtZW50KCdsaScpOwogICAgbGkuYXBwZW5kKHNwYW4oZmlsZS5uYW1lLCB7Zm9udFdlaWdodDogJ2JvbGQnfSkpOwogICAgbGkuYXBwZW5kKHNwYW4oCiAgICAgICAgYCgke2ZpbGUudHlwZSB8fCAnbi9hJ30pIC0gJHtmaWxlLnNpemV9IGJ5dGVzLCBgICsKICAgICAgICBgbGFzdCBtb2RpZmllZDogJHsKICAgICAgICAgICAgZmlsZS5sYXN0TW9kaWZpZWREYXRlID8gZmlsZS5sYXN0TW9kaWZpZWREYXRlLnRvTG9jYWxlRGF0ZVN0cmluZygpIDoKICAgICAgICAgICAgICAgICAgICAgICAgICAgICAgICAgICAgJ24vYSd9IC0gYCkpOwogICAgY29uc3QgcGVyY2VudCA9IHNwYW4oJzAlIGRvbmUnKTsKICAgIGxpLmFwcGVuZENoaWxkKHBlcmNlbnQpOwoKICAgIG91dHB1dEVsZW1lbnQuYXBwZW5kQ2hpbGQobGkpOwoKICAgIGNvbnN0IGZpbGVEYXRhUHJvbWlzZSA9IG5ldyBQcm9taXNlKChyZXNvbHZlKSA9PiB7CiAgICAgIGNvbnN0IHJlYWRlciA9IG5ldyBGaWxlUmVhZGVyKCk7CiAgICAgIHJlYWRlci5vbmxvYWQgPSAoZSkgPT4gewogICAgICAgIHJlc29sdmUoZS50YXJnZXQucmVzdWx0KTsKICAgICAgfTsKICAgICAgcmVhZGVyLnJlYWRBc0FycmF5QnVmZmVyKGZpbGUpOwogICAgfSk7CiAgICAvLyBXYWl0IGZvciB0aGUgZGF0YSB0byBiZSByZWFkeS4KICAgIGxldCBmaWxlRGF0YSA9IHlpZWxkIHsKICAgICAgcHJvbWlzZTogZmlsZURhdGFQcm9taXNlLAogICAgICByZXNwb25zZTogewogICAgICAgIGFjdGlvbjogJ2NvbnRpbnVlJywKICAgICAgfQogICAgfTsKCiAgICAvLyBVc2UgYSBjaHVua2VkIHNlbmRpbmcgdG8gYXZvaWQgbWVzc2FnZSBzaXplIGxpbWl0cy4gU2VlIGIvNjIxMTU2NjAuCiAgICBsZXQgcG9zaXRpb24gPSAwOwogICAgd2hpbGUgKHBvc2l0aW9uIDwgZmlsZURhdGEuYnl0ZUxlbmd0aCkgewogICAgICBjb25zdCBsZW5ndGggPSBNYXRoLm1pbihmaWxlRGF0YS5ieXRlTGVuZ3RoIC0gcG9zaXRpb24sIE1BWF9QQVlMT0FEX1NJWkUpOwogICAgICBjb25zdCBjaHVuayA9IG5ldyBVaW50OEFycmF5KGZpbGVEYXRhLCBwb3NpdGlvbiwgbGVuZ3RoKTsKICAgICAgcG9zaXRpb24gKz0gbGVuZ3RoOwoKICAgICAgY29uc3QgYmFzZTY0ID0gYnRvYShTdHJpbmcuZnJvbUNoYXJDb2RlLmFwcGx5KG51bGwsIGNodW5rKSk7CiAgICAgIHlpZWxkIHsKICAgICAgICByZXNwb25zZTogewogICAgICAgICAgYWN0aW9uOiAnYXBwZW5kJywKICAgICAgICAgIGZpbGU6IGZpbGUubmFtZSwKICAgICAgICAgIGRhdGE6IGJhc2U2NCwKICAgICAgICB9LAogICAgICB9OwogICAgICBwZXJjZW50LnRleHRDb250ZW50ID0KICAgICAgICAgIGAke01hdGgucm91bmQoKHBvc2l0aW9uIC8gZmlsZURhdGEuYnl0ZUxlbmd0aCkgKiAxMDApfSUgZG9uZWA7CiAgICB9CiAgfQoKICAvLyBBbGwgZG9uZS4KICB5aWVsZCB7CiAgICByZXNwb25zZTogewogICAgICBhY3Rpb246ICdjb21wbGV0ZScsCiAgICB9CiAgfTsKfQoKc2NvcGUuZ29vZ2xlID0gc2NvcGUuZ29vZ2xlIHx8IHt9OwpzY29wZS5nb29nbGUuY29sYWIgPSBzY29wZS5nb29nbGUuY29sYWIgfHwge307CnNjb3BlLmdvb2dsZS5jb2xhYi5fZmlsZXMgPSB7CiAgX3VwbG9hZEZpbGVzLAogIF91cGxvYWRGaWxlc0NvbnRpbnVlLAp9Owp9KShzZWxmKTsK",
              "ok": true,
              "headers": [
                [
                  "content-type",
                  "application/javascript"
                ]
              ],
              "status": 200,
              "status_text": ""
            }
          },
          "base_uri": "https://localhost:8080/",
          "height": 73
        },
        "outputId": "4a15d777-e11d-4d2d-8121-de881d7a7b1c"
      },
      "source": [
        " \n",
        "from google.colab import files \n",
        "uploaded = files.upload()\n",
        "dataset=pd.read_csv('orders.csv')"
      ],
      "execution_count": 115,
      "outputs": [
        {
          "output_type": "display_data",
          "data": {
            "text/html": [
              "\n",
              "     <input type=\"file\" id=\"files-4acd5d66-1683-418e-90a7-152706c3326a\" name=\"files[]\" multiple disabled\n",
              "        style=\"border:none\" />\n",
              "     <output id=\"result-4acd5d66-1683-418e-90a7-152706c3326a\">\n",
              "      Upload widget is only available when the cell has been executed in the\n",
              "      current browser session. Please rerun this cell to enable.\n",
              "      </output>\n",
              "      <script src=\"/nbextensions/google.colab/files.js\"></script> "
            ],
            "text/plain": [
              "<IPython.core.display.HTML object>"
            ]
          },
          "metadata": {
            "tags": []
          }
        },
        {
          "output_type": "stream",
          "text": [
            "Saving orders.csv to orders.csv\n"
          ],
          "name": "stdout"
        }
      ]
    },
    {
      "cell_type": "markdown",
      "metadata": {
        "id": "g1gH_Z2eAyc2",
        "colab_type": "text"
      },
      "source": [
        "#dataset Information"
      ]
    },
    {
      "cell_type": "code",
      "metadata": {
        "id": "4g91yi23wS5O",
        "colab_type": "code",
        "colab": {
          "base_uri": "https://localhost:8080/",
          "height": 593
        },
        "outputId": "dba314fc-bbd2-48ad-f2fb-bf3e40bdf278"
      },
      "source": [
        "\n",
        "dataset.info()\n",
        "dataset.head(10)"
      ],
      "execution_count": 116,
      "outputs": [
        {
          "output_type": "stream",
          "text": [
            "<class 'pandas.core.frame.DataFrame'>\n",
            "RangeIndex: 44732 entries, 0 to 44731\n",
            "Data columns (total 6 columns):\n",
            " #   Column            Non-Null Count  Dtype  \n",
            "---  ------            --------------  -----  \n",
            " 0   Order_ID          44732 non-null  int64  \n",
            " 1   Product           44732 non-null  object \n",
            " 2   Quantity_Ordered  44732 non-null  int64  \n",
            " 3   Price_Each        44732 non-null  float64\n",
            " 4   Order_Date        44732 non-null  object \n",
            " 5   Purchase_Address  44732 non-null  object \n",
            "dtypes: float64(1), int64(2), object(3)\n",
            "memory usage: 2.0+ MB\n"
          ],
          "name": "stdout"
        },
        {
          "output_type": "execute_result",
          "data": {
            "text/html": [
              "<div>\n",
              "<style scoped>\n",
              "    .dataframe tbody tr th:only-of-type {\n",
              "        vertical-align: middle;\n",
              "    }\n",
              "\n",
              "    .dataframe tbody tr th {\n",
              "        vertical-align: top;\n",
              "    }\n",
              "\n",
              "    .dataframe thead th {\n",
              "        text-align: right;\n",
              "    }\n",
              "</style>\n",
              "<table border=\"1\" class=\"dataframe\">\n",
              "  <thead>\n",
              "    <tr style=\"text-align: right;\">\n",
              "      <th></th>\n",
              "      <th>Order_ID</th>\n",
              "      <th>Product</th>\n",
              "      <th>Quantity_Ordered</th>\n",
              "      <th>Price_Each</th>\n",
              "      <th>Order_Date</th>\n",
              "      <th>Purchase_Address</th>\n",
              "    </tr>\n",
              "  </thead>\n",
              "  <tbody>\n",
              "    <tr>\n",
              "      <th>0</th>\n",
              "      <td>176562</td>\n",
              "      <td>USB-C Charging Cable</td>\n",
              "      <td>1</td>\n",
              "      <td>11.95</td>\n",
              "      <td>4/29/2019 13:03</td>\n",
              "      <td>381 Wilson St, San Francisco, CA 94016</td>\n",
              "    </tr>\n",
              "    <tr>\n",
              "      <th>1</th>\n",
              "      <td>176565</td>\n",
              "      <td>Macbook Pro Laptop</td>\n",
              "      <td>1</td>\n",
              "      <td>1700.00</td>\n",
              "      <td>4/24/2019 10:38</td>\n",
              "      <td>915 Willow St, San Francisco, CA 94016</td>\n",
              "    </tr>\n",
              "    <tr>\n",
              "      <th>2</th>\n",
              "      <td>176573</td>\n",
              "      <td>USB-C Charging Cable</td>\n",
              "      <td>1</td>\n",
              "      <td>11.95</td>\n",
              "      <td>4/27/2019 18:41</td>\n",
              "      <td>214 Chestnut St, San Francisco, CA 94016</td>\n",
              "    </tr>\n",
              "    <tr>\n",
              "      <th>3</th>\n",
              "      <td>176584</td>\n",
              "      <td>Flatscreen TV</td>\n",
              "      <td>1</td>\n",
              "      <td>300.00</td>\n",
              "      <td>4/24/2019 20:39</td>\n",
              "      <td>936 Church St, San Francisco, CA 94016</td>\n",
              "    </tr>\n",
              "    <tr>\n",
              "      <th>4</th>\n",
              "      <td>176586</td>\n",
              "      <td>AAA Batteries (4-pack)</td>\n",
              "      <td>2</td>\n",
              "      <td>2.99</td>\n",
              "      <td>4/10/2019 17:00</td>\n",
              "      <td>365 Center St, San Francisco, CA 94016</td>\n",
              "    </tr>\n",
              "    <tr>\n",
              "      <th>5</th>\n",
              "      <td>176586</td>\n",
              "      <td>Google Phone</td>\n",
              "      <td>1</td>\n",
              "      <td>600.00</td>\n",
              "      <td>4/10/2019 17:00</td>\n",
              "      <td>365 Center St, San Francisco, CA 94016</td>\n",
              "    </tr>\n",
              "    <tr>\n",
              "      <th>6</th>\n",
              "      <td>176594</td>\n",
              "      <td>Wired Headphones</td>\n",
              "      <td>1</td>\n",
              "      <td>11.99</td>\n",
              "      <td>4/17/2019 23:04</td>\n",
              "      <td>63 Maple St, San Francisco, CA 94016</td>\n",
              "    </tr>\n",
              "    <tr>\n",
              "      <th>7</th>\n",
              "      <td>176597</td>\n",
              "      <td>USB-C Charging Cable</td>\n",
              "      <td>1</td>\n",
              "      <td>11.95</td>\n",
              "      <td>4/19/2019 13:39</td>\n",
              "      <td>681 11th St, San Francisco, CA 94016</td>\n",
              "    </tr>\n",
              "    <tr>\n",
              "      <th>8</th>\n",
              "      <td>176598</td>\n",
              "      <td>AAA Batteries (4-pack)</td>\n",
              "      <td>2</td>\n",
              "      <td>2.99</td>\n",
              "      <td>4/21/2019 20:33</td>\n",
              "      <td>294 Park St, San Francisco, CA 94016</td>\n",
              "    </tr>\n",
              "    <tr>\n",
              "      <th>9</th>\n",
              "      <td>176603</td>\n",
              "      <td>USB-C Charging Cable</td>\n",
              "      <td>1</td>\n",
              "      <td>11.95</td>\n",
              "      <td>4/1/2019 7:46</td>\n",
              "      <td>858 6th St, San Francisco, CA 94016</td>\n",
              "    </tr>\n",
              "  </tbody>\n",
              "</table>\n",
              "</div>"
            ],
            "text/plain": [
              "   Order_ID  ...                          Purchase_Address\n",
              "0    176562  ...    381 Wilson St, San Francisco, CA 94016\n",
              "1    176565  ...    915 Willow St, San Francisco, CA 94016\n",
              "2    176573  ...  214 Chestnut St, San Francisco, CA 94016\n",
              "3    176584  ...    936 Church St, San Francisco, CA 94016\n",
              "4    176586  ...    365 Center St, San Francisco, CA 94016\n",
              "5    176586  ...    365 Center St, San Francisco, CA 94016\n",
              "6    176594  ...      63 Maple St, San Francisco, CA 94016\n",
              "7    176597  ...      681 11th St, San Francisco, CA 94016\n",
              "8    176598  ...      294 Park St, San Francisco, CA 94016\n",
              "9    176603  ...       858 6th St, San Francisco, CA 94016\n",
              "\n",
              "[10 rows x 6 columns]"
            ]
          },
          "metadata": {
            "tags": []
          },
          "execution_count": 116
        }
      ]
    },
    {
      "cell_type": "markdown",
      "metadata": {
        "id": "u45CDVr1Aul6",
        "colab_type": "text"
      },
      "source": [
        "#cleaning dataset"
      ]
    },
    {
      "cell_type": "code",
      "metadata": {
        "id": "EdUKvn-p9u1W",
        "colab_type": "code",
        "colab": {
          "base_uri": "https://localhost:8080/",
          "height": 297
        },
        "outputId": "43c047c9-839a-4392-e223-45e27d75bd32"
      },
      "source": [
        "\n",
        "dataset.dropna() \n",
        "dataset.head(8)"
      ],
      "execution_count": 117,
      "outputs": [
        {
          "output_type": "execute_result",
          "data": {
            "text/html": [
              "<div>\n",
              "<style scoped>\n",
              "    .dataframe tbody tr th:only-of-type {\n",
              "        vertical-align: middle;\n",
              "    }\n",
              "\n",
              "    .dataframe tbody tr th {\n",
              "        vertical-align: top;\n",
              "    }\n",
              "\n",
              "    .dataframe thead th {\n",
              "        text-align: right;\n",
              "    }\n",
              "</style>\n",
              "<table border=\"1\" class=\"dataframe\">\n",
              "  <thead>\n",
              "    <tr style=\"text-align: right;\">\n",
              "      <th></th>\n",
              "      <th>Order_ID</th>\n",
              "      <th>Product</th>\n",
              "      <th>Quantity_Ordered</th>\n",
              "      <th>Price_Each</th>\n",
              "      <th>Order_Date</th>\n",
              "      <th>Purchase_Address</th>\n",
              "    </tr>\n",
              "  </thead>\n",
              "  <tbody>\n",
              "    <tr>\n",
              "      <th>0</th>\n",
              "      <td>176562</td>\n",
              "      <td>USB-C Charging Cable</td>\n",
              "      <td>1</td>\n",
              "      <td>11.95</td>\n",
              "      <td>4/29/2019 13:03</td>\n",
              "      <td>381 Wilson St, San Francisco, CA 94016</td>\n",
              "    </tr>\n",
              "    <tr>\n",
              "      <th>1</th>\n",
              "      <td>176565</td>\n",
              "      <td>Macbook Pro Laptop</td>\n",
              "      <td>1</td>\n",
              "      <td>1700.00</td>\n",
              "      <td>4/24/2019 10:38</td>\n",
              "      <td>915 Willow St, San Francisco, CA 94016</td>\n",
              "    </tr>\n",
              "    <tr>\n",
              "      <th>2</th>\n",
              "      <td>176573</td>\n",
              "      <td>USB-C Charging Cable</td>\n",
              "      <td>1</td>\n",
              "      <td>11.95</td>\n",
              "      <td>4/27/2019 18:41</td>\n",
              "      <td>214 Chestnut St, San Francisco, CA 94016</td>\n",
              "    </tr>\n",
              "    <tr>\n",
              "      <th>3</th>\n",
              "      <td>176584</td>\n",
              "      <td>Flatscreen TV</td>\n",
              "      <td>1</td>\n",
              "      <td>300.00</td>\n",
              "      <td>4/24/2019 20:39</td>\n",
              "      <td>936 Church St, San Francisco, CA 94016</td>\n",
              "    </tr>\n",
              "    <tr>\n",
              "      <th>4</th>\n",
              "      <td>176586</td>\n",
              "      <td>AAA Batteries (4-pack)</td>\n",
              "      <td>2</td>\n",
              "      <td>2.99</td>\n",
              "      <td>4/10/2019 17:00</td>\n",
              "      <td>365 Center St, San Francisco, CA 94016</td>\n",
              "    </tr>\n",
              "    <tr>\n",
              "      <th>5</th>\n",
              "      <td>176586</td>\n",
              "      <td>Google Phone</td>\n",
              "      <td>1</td>\n",
              "      <td>600.00</td>\n",
              "      <td>4/10/2019 17:00</td>\n",
              "      <td>365 Center St, San Francisco, CA 94016</td>\n",
              "    </tr>\n",
              "    <tr>\n",
              "      <th>6</th>\n",
              "      <td>176594</td>\n",
              "      <td>Wired Headphones</td>\n",
              "      <td>1</td>\n",
              "      <td>11.99</td>\n",
              "      <td>4/17/2019 23:04</td>\n",
              "      <td>63 Maple St, San Francisco, CA 94016</td>\n",
              "    </tr>\n",
              "    <tr>\n",
              "      <th>7</th>\n",
              "      <td>176597</td>\n",
              "      <td>USB-C Charging Cable</td>\n",
              "      <td>1</td>\n",
              "      <td>11.95</td>\n",
              "      <td>4/19/2019 13:39</td>\n",
              "      <td>681 11th St, San Francisco, CA 94016</td>\n",
              "    </tr>\n",
              "  </tbody>\n",
              "</table>\n",
              "</div>"
            ],
            "text/plain": [
              "   Order_ID  ...                          Purchase_Address\n",
              "0    176562  ...    381 Wilson St, San Francisco, CA 94016\n",
              "1    176565  ...    915 Willow St, San Francisco, CA 94016\n",
              "2    176573  ...  214 Chestnut St, San Francisco, CA 94016\n",
              "3    176584  ...    936 Church St, San Francisco, CA 94016\n",
              "4    176586  ...    365 Center St, San Francisco, CA 94016\n",
              "5    176586  ...    365 Center St, San Francisco, CA 94016\n",
              "6    176594  ...      63 Maple St, San Francisco, CA 94016\n",
              "7    176597  ...      681 11th St, San Francisco, CA 94016\n",
              "\n",
              "[8 rows x 6 columns]"
            ]
          },
          "metadata": {
            "tags": []
          },
          "execution_count": 117
        }
      ]
    },
    {
      "cell_type": "markdown",
      "metadata": {
        "id": "NuU35I-2AsiU",
        "colab_type": "text"
      },
      "source": [
        "#Visualizing most-lease purchased product and frequency of others"
      ]
    },
    {
      "cell_type": "code",
      "metadata": {
        "id": "hWgGZmW51Fqp",
        "colab_type": "code",
        "colab": {
          "base_uri": "https://localhost:8080/",
          "height": 299
        },
        "outputId": "ec6cf716-cd10-4b71-bc87-3c3d4205485a"
      },
      "source": [
        "\n",
        "df=dataset.groupby(['Product'])[['Quantity_Ordered']].sum()\n",
        "df.sort_values(by='Quantity_Ordered',inplace=True, ascending=True)\n",
        "df.plot(kind=\"barh\",title=\"Product-Quantity (Most Sold Product)\")"
      ],
      "execution_count": 118,
      "outputs": [
        {
          "output_type": "execute_result",
          "data": {
            "text/plain": [
              "<matplotlib.axes._subplots.AxesSubplot at 0x7f7e41d59780>"
            ]
          },
          "metadata": {
            "tags": []
          },
          "execution_count": 118
        },
        {
          "output_type": "display_data",
          "data": {
            "image/png": "[encoded data removed]",
            "text/plain": [
              "<Figure size 432x288 with 1 Axes>"
            ]
          },
          "metadata": {
            "tags": [],
            "needs_background": "light"
          }
        }
      ]
    },
    {
      "cell_type": "markdown",
      "metadata": {
        "id": "EIC_-umNAYWn",
        "colab_type": "text"
      },
      "source": [
        "#Plotting Sales per Product (The number in sales is in order 10^5 for which graph is converted accordingly)"
      ]
    },
    {
      "cell_type": "code",
      "metadata": {
        "id": "Dv21bOBn9jAj",
        "colab_type": "code",
        "colab": {
          "base_uri": "https://localhost:8080/",
          "height": 512
        },
        "outputId": "5fa99a50-00c8-4627-fc4b-4638eab69d37"
      },
      "source": [
        "\n",
        "af=dataset.groupby(['Product'])[['Price_Each']].sum()\n",
        "af.sort_values(by='Price_Each',inplace=True, ascending=True)\n",
        "\n",
        "af.plot(kind=\"barh\",title=\"Price-Product (Sales Per Product)\")\n",
        "\n",
        "af.head(5)"
      ],
      "execution_count": 119,
      "outputs": [
        {
          "output_type": "execute_result",
          "data": {
            "text/html": [
              "<div>\n",
              "<style scoped>\n",
              "    .dataframe tbody tr th:only-of-type {\n",
              "        vertical-align: middle;\n",
              "    }\n",
              "\n",
              "    .dataframe tbody tr th {\n",
              "        vertical-align: top;\n",
              "    }\n",
              "\n",
              "    .dataframe thead th {\n",
              "        text-align: right;\n",
              "    }\n",
              "</style>\n",
              "<table border=\"1\" class=\"dataframe\">\n",
              "  <thead>\n",
              "    <tr style=\"text-align: right;\">\n",
              "      <th></th>\n",
              "      <th>Price_Each</th>\n",
              "    </tr>\n",
              "    <tr>\n",
              "      <th>Product</th>\n",
              "      <th></th>\n",
              "    </tr>\n",
              "  </thead>\n",
              "  <tbody>\n",
              "    <tr>\n",
              "      <th>AAA Batteries (4-pack)</th>\n",
              "      <td>14746.68</td>\n",
              "    </tr>\n",
              "    <tr>\n",
              "      <th>AA Batteries (4-pack)</th>\n",
              "      <td>18827.52</td>\n",
              "    </tr>\n",
              "    <tr>\n",
              "      <th>Wired Headphones</th>\n",
              "      <td>55058.08</td>\n",
              "    </tr>\n",
              "    <tr>\n",
              "      <th>USB-C Charging Cable</th>\n",
              "      <td>64147.60</td>\n",
              "    </tr>\n",
              "    <tr>\n",
              "      <th>Lightning Charging Cable</th>\n",
              "      <td>77351.30</td>\n",
              "    </tr>\n",
              "  </tbody>\n",
              "</table>\n",
              "</div>"
            ],
            "text/plain": [
              "                          Price_Each\n",
              "Product                             \n",
              "AAA Batteries (4-pack)      14746.68\n",
              "AA Batteries (4-pack)       18827.52\n",
              "Wired Headphones            55058.08\n",
              "USB-C Charging Cable        64147.60\n",
              "Lightning Charging Cable    77351.30"
            ]
          },
          "metadata": {
            "tags": []
          },
          "execution_count": 119
        },
        {
          "output_type": "display_data",
          "data": {
            "image/png": "[encoded data removed]",
            "text/plain": [
              "<Figure size 432x288 with 1 Axes>"
            ]
          },
          "metadata": {
            "tags": [],
            "needs_background": "light"
          }
        }
      ]
    },
    {
      "cell_type": "markdown",
      "metadata": {
        "id": "GR-TfV7gASuF",
        "colab_type": "text"
      },
      "source": [
        "#Taking only the IDs which have more than 1 occurances"
      ]
    },
    {
      "cell_type": "code",
      "metadata": {
        "id": "-AKv0zYMmC-N",
        "colab_type": "code",
        "colab": {
          "base_uri": "https://localhost:8080/",
          "height": 419
        },
        "outputId": "2af03354-38dd-44bf-8490-f1e4bcec111c"
      },
      "source": [
        "\n",
        "dfa=dataset\n",
        "counts = dfa['Order_ID'].value_counts()\n",
        "a=dfa[dfa['Order_ID'].isin(counts.index[counts > 1])]\n",
        "a"
      ],
      "execution_count": 120,
      "outputs": [
        {
          "output_type": "execute_result",
          "data": {
            "text/html": [
              "<div>\n",
              "<style scoped>\n",
              "    .dataframe tbody tr th:only-of-type {\n",
              "        vertical-align: middle;\n",
              "    }\n",
              "\n",
              "    .dataframe tbody tr th {\n",
              "        vertical-align: top;\n",
              "    }\n",
              "\n",
              "    .dataframe thead th {\n",
              "        text-align: right;\n",
              "    }\n",
              "</style>\n",
              "<table border=\"1\" class=\"dataframe\">\n",
              "  <thead>\n",
              "    <tr style=\"text-align: right;\">\n",
              "      <th></th>\n",
              "      <th>Order_ID</th>\n",
              "      <th>Product</th>\n",
              "      <th>Quantity_Ordered</th>\n",
              "      <th>Price_Each</th>\n",
              "      <th>Order_Date</th>\n",
              "      <th>Purchase_Address</th>\n",
              "    </tr>\n",
              "  </thead>\n",
              "  <tbody>\n",
              "    <tr>\n",
              "      <th>4</th>\n",
              "      <td>176586</td>\n",
              "      <td>AAA Batteries (4-pack)</td>\n",
              "      <td>2</td>\n",
              "      <td>2.99</td>\n",
              "      <td>4/10/2019 17:00</td>\n",
              "      <td>365 Center St, San Francisco, CA 94016</td>\n",
              "    </tr>\n",
              "    <tr>\n",
              "      <th>5</th>\n",
              "      <td>176586</td>\n",
              "      <td>Google Phone</td>\n",
              "      <td>1</td>\n",
              "      <td>600.00</td>\n",
              "      <td>4/10/2019 17:00</td>\n",
              "      <td>365 Center St, San Francisco, CA 94016</td>\n",
              "    </tr>\n",
              "    <tr>\n",
              "      <th>67</th>\n",
              "      <td>176808</td>\n",
              "      <td>Google Phone</td>\n",
              "      <td>1</td>\n",
              "      <td>600.00</td>\n",
              "      <td>4/28/2019 18:03</td>\n",
              "      <td>933 Meadow St, San Francisco, CA 94016</td>\n",
              "    </tr>\n",
              "    <tr>\n",
              "      <th>68</th>\n",
              "      <td>176808</td>\n",
              "      <td>Wired Headphones</td>\n",
              "      <td>1</td>\n",
              "      <td>11.99</td>\n",
              "      <td>4/28/2019 18:03</td>\n",
              "      <td>933 Meadow St, San Francisco, CA 94016</td>\n",
              "    </tr>\n",
              "    <tr>\n",
              "      <th>108</th>\n",
              "      <td>176975</td>\n",
              "      <td>USB-C Charging Cable</td>\n",
              "      <td>1</td>\n",
              "      <td>11.95</td>\n",
              "      <td>4/23/2019 15:46</td>\n",
              "      <td>28 13th St, San Francisco, CA 94016</td>\n",
              "    </tr>\n",
              "    <tr>\n",
              "      <th>...</th>\n",
              "      <td>...</td>\n",
              "      <td>...</td>\n",
              "      <td>...</td>\n",
              "      <td>...</td>\n",
              "      <td>...</td>\n",
              "      <td>...</td>\n",
              "    </tr>\n",
              "    <tr>\n",
              "      <th>44657</th>\n",
              "      <td>259035</td>\n",
              "      <td>27in FHD Monitor</td>\n",
              "      <td>1</td>\n",
              "      <td>149.99</td>\n",
              "      <td>9/29/2019 13:52</td>\n",
              "      <td>327 Lake St, San Francisco, CA 94016</td>\n",
              "    </tr>\n",
              "    <tr>\n",
              "      <th>44708</th>\n",
              "      <td>259270</td>\n",
              "      <td>Google Phone</td>\n",
              "      <td>1</td>\n",
              "      <td>600.00</td>\n",
              "      <td>9/6/2019 15:27</td>\n",
              "      <td>940 10th St, San Francisco, CA 94016</td>\n",
              "    </tr>\n",
              "    <tr>\n",
              "      <th>44709</th>\n",
              "      <td>259270</td>\n",
              "      <td>USB-C Charging Cable</td>\n",
              "      <td>1</td>\n",
              "      <td>11.95</td>\n",
              "      <td>9/6/2019 15:27</td>\n",
              "      <td>940 10th St, San Francisco, CA 94016</td>\n",
              "    </tr>\n",
              "    <tr>\n",
              "      <th>44725</th>\n",
              "      <td>259350</td>\n",
              "      <td>Google Phone</td>\n",
              "      <td>1</td>\n",
              "      <td>600.00</td>\n",
              "      <td>9/30/2019 13:49</td>\n",
              "      <td>519 Maple St, San Francisco, CA 94016</td>\n",
              "    </tr>\n",
              "    <tr>\n",
              "      <th>44726</th>\n",
              "      <td>259350</td>\n",
              "      <td>USB-C Charging Cable</td>\n",
              "      <td>1</td>\n",
              "      <td>11.95</td>\n",
              "      <td>9/30/2019 13:49</td>\n",
              "      <td>519 Maple St, San Francisco, CA 94016</td>\n",
              "    </tr>\n",
              "  </tbody>\n",
              "</table>\n",
              "<p>3562 rows × 6 columns</p>\n",
              "</div>"
            ],
            "text/plain": [
              "       Order_ID  ...                        Purchase_Address\n",
              "4        176586  ...  365 Center St, San Francisco, CA 94016\n",
              "5        176586  ...  365 Center St, San Francisco, CA 94016\n",
              "67       176808  ...  933 Meadow St, San Francisco, CA 94016\n",
              "68       176808  ...  933 Meadow St, San Francisco, CA 94016\n",
              "108      176975  ...     28 13th St, San Francisco, CA 94016\n",
              "...         ...  ...                                     ...\n",
              "44657    259035  ...    327 Lake St, San Francisco, CA 94016\n",
              "44708    259270  ...    940 10th St, San Francisco, CA 94016\n",
              "44709    259270  ...    940 10th St, San Francisco, CA 94016\n",
              "44725    259350  ...   519 Maple St, San Francisco, CA 94016\n",
              "44726    259350  ...   519 Maple St, San Francisco, CA 94016\n",
              "\n",
              "[3562 rows x 6 columns]"
            ]
          },
          "metadata": {
            "tags": []
          },
          "execution_count": 120
        }
      ]
    },
    {
      "cell_type": "code",
      "metadata": {
        "id": "ybD-iaLbGIVG",
        "colab_type": "code",
        "colab": {
          "base_uri": "https://localhost:8080/",
          "height": 269
        },
        "outputId": "ca5125c9-4068-4bfb-c834-9d9f44ed7781"
      },
      "source": [
        "a.info()\n",
        "type(a)"
      ],
      "execution_count": 121,
      "outputs": [
        {
          "output_type": "stream",
          "text": [
            "<class 'pandas.core.frame.DataFrame'>\n",
            "Int64Index: 3562 entries, 4 to 44726\n",
            "Data columns (total 6 columns):\n",
            " #   Column            Non-Null Count  Dtype  \n",
            "---  ------            --------------  -----  \n",
            " 0   Order_ID          3562 non-null   int64  \n",
            " 1   Product           3562 non-null   object \n",
            " 2   Quantity_Ordered  3562 non-null   int64  \n",
            " 3   Price_Each        3562 non-null   float64\n",
            " 4   Order_Date        3562 non-null   object \n",
            " 5   Purchase_Address  3562 non-null   object \n",
            "dtypes: float64(1), int64(2), object(3)\n",
            "memory usage: 194.8+ KB\n"
          ],
          "name": "stdout"
        },
        {
          "output_type": "execute_result",
          "data": {
            "text/plain": [
              "pandas.core.frame.DataFrame"
            ]
          },
          "metadata": {
            "tags": []
          },
          "execution_count": 121
        }
      ]
    },
    {
      "cell_type": "markdown",
      "metadata": {
        "id": "YJlxSHNCAN0f",
        "colab_type": "text"
      },
      "source": [
        "#Sorting out the most frequent Product combinations based on 'Ordered_ID'"
      ]
    },
    {
      "cell_type": "code",
      "metadata": {
        "id": "Oza0V3C4rtsN",
        "colab_type": "code",
        "colab": {
          "base_uri": "https://localhost:8080/",
          "height": 620
        },
        "outputId": "cd733962-1af5-4cfb-96b6-daaef71655f3"
      },
      "source": [
        "\n",
        "dfz=a.groupby('Order_ID').agg(lambda x: x.tolist())\n",
        "dfz"
      ],
      "execution_count": 122,
      "outputs": [
        {
          "output_type": "execute_result",
          "data": {
            "text/html": [
              "<div>\n",
              "<style scoped>\n",
              "    .dataframe tbody tr th:only-of-type {\n",
              "        vertical-align: middle;\n",
              "    }\n",
              "\n",
              "    .dataframe tbody tr th {\n",
              "        vertical-align: top;\n",
              "    }\n",
              "\n",
              "    .dataframe thead th {\n",
              "        text-align: right;\n",
              "    }\n",
              "</style>\n",
              "<table border=\"1\" class=\"dataframe\">\n",
              "  <thead>\n",
              "    <tr style=\"text-align: right;\">\n",
              "      <th></th>\n",
              "      <th>Product</th>\n",
              "      <th>Quantity_Ordered</th>\n",
              "      <th>Price_Each</th>\n",
              "      <th>Order_Date</th>\n",
              "      <th>Purchase_Address</th>\n",
              "    </tr>\n",
              "    <tr>\n",
              "      <th>Order_ID</th>\n",
              "      <th></th>\n",
              "      <th></th>\n",
              "      <th></th>\n",
              "      <th></th>\n",
              "      <th></th>\n",
              "    </tr>\n",
              "  </thead>\n",
              "  <tbody>\n",
              "    <tr>\n",
              "      <th>141450</th>\n",
              "      <td>[Google Phone, Bose SoundSport Headphones]</td>\n",
              "      <td>[1, 1]</td>\n",
              "      <td>[600.0, 99.99]</td>\n",
              "      <td>[1/12/2019 11:16, 1/12/2019 11:16]</td>\n",
              "      <td>[521 Park St, San Francisco, CA 94016, 521 Par...</td>\n",
              "    </tr>\n",
              "    <tr>\n",
              "      <th>141782</th>\n",
              "      <td>[27in FHD Monitor, Bose SoundSport Headphones]</td>\n",
              "      <td>[1, 1]</td>\n",
              "      <td>[149.99, 99.99]</td>\n",
              "      <td>[1/11/2019 21:13, 1/11/2019 21:13]</td>\n",
              "      <td>[353 4th St, San Francisco, CA 94016, 353 4th ...</td>\n",
              "    </tr>\n",
              "    <tr>\n",
              "      <th>141795</th>\n",
              "      <td>[iPhone, Wired Headphones]</td>\n",
              "      <td>[1, 1]</td>\n",
              "      <td>[700.0, 11.99]</td>\n",
              "      <td>[1/19/2019 20:31, 1/19/2019 20:31]</td>\n",
              "      <td>[383 Jefferson St, San Francisco, CA 94016, 38...</td>\n",
              "    </tr>\n",
              "    <tr>\n",
              "      <th>141843</th>\n",
              "      <td>[AA Batteries (4-pack), AAA Batteries (4-pack)]</td>\n",
              "      <td>[1, 1]</td>\n",
              "      <td>[3.84, 2.99]</td>\n",
              "      <td>[1/10/2019 9:59, 1/10/2019 9:59]</td>\n",
              "      <td>[400 9th St, San Francisco, CA 94016, 400 9th ...</td>\n",
              "    </tr>\n",
              "    <tr>\n",
              "      <th>141946</th>\n",
              "      <td>[USB-C Charging Cable, Wired Headphones]</td>\n",
              "      <td>[1, 1]</td>\n",
              "      <td>[11.95, 11.99]</td>\n",
              "      <td>[1/11/2019 17:24, 1/11/2019 17:24]</td>\n",
              "      <td>[731 Lake St, San Francisco, CA 94016, 731 Lak...</td>\n",
              "    </tr>\n",
              "    <tr>\n",
              "      <th>...</th>\n",
              "      <td>...</td>\n",
              "      <td>...</td>\n",
              "      <td>...</td>\n",
              "      <td>...</td>\n",
              "      <td>...</td>\n",
              "    </tr>\n",
              "    <tr>\n",
              "      <th>318794</th>\n",
              "      <td>[Bose SoundSport Headphones, AA Batteries (4-p...</td>\n",
              "      <td>[1, 1]</td>\n",
              "      <td>[99.99, 3.84]</td>\n",
              "      <td>[12/13/2019 9:46, 12/13/2019 9:46]</td>\n",
              "      <td>[146 12th St, San Francisco, CA 94016, 146 12t...</td>\n",
              "    </tr>\n",
              "    <tr>\n",
              "      <th>318902</th>\n",
              "      <td>[Google Phone, Wired Headphones]</td>\n",
              "      <td>[1, 1]</td>\n",
              "      <td>[600.0, 11.99]</td>\n",
              "      <td>[12/14/2019 12:16, 12/14/2019 12:16]</td>\n",
              "      <td>[837 5th St, San Francisco, CA 94016, 837 5th ...</td>\n",
              "    </tr>\n",
              "    <tr>\n",
              "      <th>319045</th>\n",
              "      <td>[Flatscreen TV, AAA Batteries (4-pack)]</td>\n",
              "      <td>[1, 1]</td>\n",
              "      <td>[300.0, 2.99]</td>\n",
              "      <td>[12/22/2019 21:52, 12/22/2019 21:52]</td>\n",
              "      <td>[317 Park St, San Francisco, CA 94016, 317 Par...</td>\n",
              "    </tr>\n",
              "    <tr>\n",
              "      <th>319337</th>\n",
              "      <td>[Vareebadd Phone, USB-C Charging Cable]</td>\n",
              "      <td>[1, 1]</td>\n",
              "      <td>[400.0, 11.95]</td>\n",
              "      <td>[12/29/2019 15:12, 12/29/2019 15:12]</td>\n",
              "      <td>[835 Main St, San Francisco, CA 94016, 835 Mai...</td>\n",
              "    </tr>\n",
              "    <tr>\n",
              "      <th>319447</th>\n",
              "      <td>[Google Phone, Wired Headphones]</td>\n",
              "      <td>[1, 1]</td>\n",
              "      <td>[600.0, 11.99]</td>\n",
              "      <td>[12/29/2019 20:18, 12/29/2019 20:18]</td>\n",
              "      <td>[114 Lincoln St, San Francisco, CA 94016, 114 ...</td>\n",
              "    </tr>\n",
              "  </tbody>\n",
              "</table>\n",
              "<p>1728 rows × 5 columns</p>\n",
              "</div>"
            ],
            "text/plain": [
              "                                                    Product  ...                                   Purchase_Address\n",
              "Order_ID                                                     ...                                                   \n",
              "141450           [Google Phone, Bose SoundSport Headphones]  ...  [521 Park St, San Francisco, CA 94016, 521 Par...\n",
              "141782       [27in FHD Monitor, Bose SoundSport Headphones]  ...  [353 4th St, San Francisco, CA 94016, 353 4th ...\n",
              "141795                           [iPhone, Wired Headphones]  ...  [383 Jefferson St, San Francisco, CA 94016, 38...\n",
              "141843      [AA Batteries (4-pack), AAA Batteries (4-pack)]  ...  [400 9th St, San Francisco, CA 94016, 400 9th ...\n",
              "141946             [USB-C Charging Cable, Wired Headphones]  ...  [731 Lake St, San Francisco, CA 94016, 731 Lak...\n",
              "...                                                     ...  ...                                                ...\n",
              "318794    [Bose SoundSport Headphones, AA Batteries (4-p...  ...  [146 12th St, San Francisco, CA 94016, 146 12t...\n",
              "318902                     [Google Phone, Wired Headphones]  ...  [837 5th St, San Francisco, CA 94016, 837 5th ...\n",
              "319045              [Flatscreen TV, AAA Batteries (4-pack)]  ...  [317 Park St, San Francisco, CA 94016, 317 Par...\n",
              "319337              [Vareebadd Phone, USB-C Charging Cable]  ...  [835 Main St, San Francisco, CA 94016, 835 Mai...\n",
              "319447                     [Google Phone, Wired Headphones]  ...  [114 Lincoln St, San Francisco, CA 94016, 114 ...\n",
              "\n",
              "[1728 rows x 5 columns]"
            ]
          },
          "metadata": {
            "tags": []
          },
          "execution_count": 122
        }
      ]
    },
    {
      "cell_type": "code",
      "metadata": {
        "id": "APdcCGN3FiZL",
        "colab_type": "code",
        "colab": {
          "base_uri": "https://localhost:8080/",
          "height": 233
        },
        "outputId": "caf3b77e-ce45-440c-df5f-c56f44885d27"
      },
      "source": [
        "dfz.info()"
      ],
      "execution_count": 123,
      "outputs": [
        {
          "output_type": "stream",
          "text": [
            "<class 'pandas.core.frame.DataFrame'>\n",
            "Int64Index: 1728 entries, 141450 to 319447\n",
            "Data columns (total 5 columns):\n",
            " #   Column            Non-Null Count  Dtype \n",
            "---  ------            --------------  ----- \n",
            " 0   Product           1728 non-null   object\n",
            " 1   Quantity_Ordered  1728 non-null   object\n",
            " 2   Price_Each        1728 non-null   object\n",
            " 3   Order_Date        1728 non-null   object\n",
            " 4   Purchase_Address  1728 non-null   object\n",
            "dtypes: object(5)\n",
            "memory usage: 81.0+ KB\n"
          ],
          "name": "stdout"
        }
      ]
    },
    {
      "cell_type": "markdown",
      "metadata": {
        "id": "Y-YaGmkp-ERo",
        "colab_type": "text"
      },
      "source": [
        "#Extracting out Product Column"
      ]
    },
    {
      "cell_type": "code",
      "metadata": {
        "id": "SukUF9Xwxf7P",
        "colab_type": "code",
        "colab": {
          "base_uri": "https://localhost:8080/",
          "height": 251
        },
        "outputId": "ae7d47c8-bb68-4f44-9678-10975a4208f4"
      },
      "source": [
        "\n",
        "dm=dfz['Product']\n",
        "dm"
      ],
      "execution_count": 124,
      "outputs": [
        {
          "output_type": "execute_result",
          "data": {
            "text/plain": [
              "Order_ID\n",
              "141450           [Google Phone, Bose SoundSport Headphones]\n",
              "141782       [27in FHD Monitor, Bose SoundSport Headphones]\n",
              "141795                           [iPhone, Wired Headphones]\n",
              "141843      [AA Batteries (4-pack), AAA Batteries (4-pack)]\n",
              "141946             [USB-C Charging Cable, Wired Headphones]\n",
              "                                ...                        \n",
              "318794    [Bose SoundSport Headphones, AA Batteries (4-p...\n",
              "318902                     [Google Phone, Wired Headphones]\n",
              "319045              [Flatscreen TV, AAA Batteries (4-pack)]\n",
              "319337              [Vareebadd Phone, USB-C Charging Cable]\n",
              "319447                     [Google Phone, Wired Headphones]\n",
              "Name: Product, Length: 1728, dtype: object"
            ]
          },
          "metadata": {
            "tags": []
          },
          "execution_count": 124
        }
      ]
    },
    {
      "cell_type": "markdown",
      "metadata": {
        "id": "6x3GhSxy-B6u",
        "colab_type": "text"
      },
      "source": [
        "#Total No. of Combinations of Products (after conversion to List)"
      ]
    },
    {
      "cell_type": "code",
      "metadata": {
        "id": "PGBFx9H7M3-q",
        "colab_type": "code",
        "colab": {
          "base_uri": "https://localhost:8080/",
          "height": 35
        },
        "outputId": "3f30d7e5-be47-4933-9e5d-a528a3772dcc"
      },
      "source": [
        "\n",
        "Prod = dfz['Product'].tolist()\n",
        "Prod\n",
        "len(Prod)"
      ],
      "execution_count": 125,
      "outputs": [
        {
          "output_type": "execute_result",
          "data": {
            "text/plain": [
              "1728"
            ]
          },
          "metadata": {
            "tags": []
          },
          "execution_count": 125
        }
      ]
    },
    {
      "cell_type": "markdown",
      "metadata": {
        "id": "boanLD8I9_UG",
        "colab_type": "text"
      },
      "source": [
        "#unique Combinations"
      ]
    },
    {
      "cell_type": "code",
      "metadata": {
        "id": "exNK7icYNPrv",
        "colab_type": "code",
        "colab": {
          "base_uri": "https://localhost:8080/",
          "height": 35
        },
        "outputId": "bfaa1932-23f1-42d6-950b-9f31afa1be2a"
      },
      "source": [
        "\n",
        "product = [list(x) for x in set(tuple(x) for x in Prod)]\n",
        "len(product)"
      ],
      "execution_count": 126,
      "outputs": [
        {
          "output_type": "execute_result",
          "data": {
            "text/plain": [
              "249"
            ]
          },
          "metadata": {
            "tags": []
          },
          "execution_count": 126
        }
      ]
    },
    {
      "cell_type": "markdown",
      "metadata": {
        "id": "0ZqZu-_M98aJ",
        "colab_type": "text"
      },
      "source": [
        "#Description Of Combinations"
      ]
    },
    {
      "cell_type": "code",
      "metadata": {
        "id": "p7gTgGNENlQ4",
        "colab_type": "code",
        "colab": {
          "base_uri": "https://localhost:8080/",
          "height": 4841
        },
        "outputId": "68574c5f-c625-440f-ce2f-aef03f783546"
      },
      "source": [
        "\n",
        "product"
      ],
      "execution_count": 127,
      "outputs": [
        {
          "output_type": "execute_result",
          "data": {
            "text/plain": [
              "[['iPhone', 'USB-C Charging Cable'],\n",
              " ['20in Monitor', 'Lightning Charging Cable'],\n",
              " ['Flatscreen TV', 'iPhone'],\n",
              " ['Wired Headphones', 'Apple Airpods Headphones'],\n",
              " ['USB-C Charging Cable', 'AA Batteries (4-pack)'],\n",
              " ['Wired Headphones', 'Macbook Pro Laptop'],\n",
              " ['34in Ultrawide Monitor', 'Lightning Charging Cable'],\n",
              " ['34in Ultrawide Monitor', '20in Monitor'],\n",
              " ['LG Dryer', 'AA Batteries (4-pack)'],\n",
              " ['Flatscreen TV', 'AAA Batteries (4-pack)'],\n",
              " ['Apple Airpods Headphones', 'Flatscreen TV'],\n",
              " ['iPhone', 'Wired Headphones', 'Lightning Charging Cable'],\n",
              " ['Vareebadd Phone', '34in Ultrawide Monitor'],\n",
              " ['Bose SoundSport Headphones', 'Bose SoundSport Headphones'],\n",
              " ['Lightning Charging Cable', '27in 4K Gaming Monitor'],\n",
              " ['Bose SoundSport Headphones', 'Flatscreen TV'],\n",
              " ['Google Phone',\n",
              "  'USB-C Charging Cable',\n",
              "  'Wired Headphones',\n",
              "  'USB-C Charging Cable'],\n",
              " ['Google Phone', 'iPhone'],\n",
              " ['27in 4K Gaming Monitor', 'AAA Batteries (4-pack)'],\n",
              " ['AA Batteries (4-pack)', 'Vareebadd Phone'],\n",
              " ['20in Monitor', '34in Ultrawide Monitor'],\n",
              " ['USB-C Charging Cable', 'Bose SoundSport Headphones'],\n",
              " ['Wired Headphones', 'AAA Batteries (4-pack)'],\n",
              " ['iPhone', '27in 4K Gaming Monitor'],\n",
              " ['Macbook Pro Laptop', 'USB-C Charging Cable'],\n",
              " ['iPhone', 'Apple Airpods Headphones'],\n",
              " ['Macbook Pro Laptop', 'Google Phone'],\n",
              " ['Vareebadd Phone', 'Bose SoundSport Headphones'],\n",
              " ['27in FHD Monitor', 'Bose SoundSport Headphones'],\n",
              " ['Lightning Charging Cable', 'ThinkPad Laptop'],\n",
              " ['Bose SoundSport Headphones', '34in Ultrawide Monitor'],\n",
              " ['Wired Headphones', 'Google Phone'],\n",
              " ['Google Phone', '27in 4K Gaming Monitor'],\n",
              " ['AAA Batteries (4-pack)', 'iPhone'],\n",
              " ['Wired Headphones', 'LG Washing Machine'],\n",
              " ['Lightning Charging Cable', 'Lightning Charging Cable'],\n",
              " ['27in 4K Gaming Monitor', 'USB-C Charging Cable'],\n",
              " ['20in Monitor', 'Macbook Pro Laptop'],\n",
              " ['27in 4K Gaming Monitor', 'Google Phone'],\n",
              " ['Lightning Charging Cable', 'USB-C Charging Cable'],\n",
              " ['AA Batteries (4-pack)', 'AA Batteries (4-pack)'],\n",
              " ['Vareebadd Phone', 'USB-C Charging Cable'],\n",
              " ['ThinkPad Laptop', 'Lightning Charging Cable'],\n",
              " ['USB-C Charging Cable', 'Wired Headphones'],\n",
              " ['27in FHD Monitor', 'USB-C Charging Cable'],\n",
              " ['Flatscreen TV', 'Google Phone'],\n",
              " ['Google Phone', '27in FHD Monitor'],\n",
              " ['Google Phone',\n",
              "  'USB-C Charging Cable',\n",
              "  'Wired Headphones',\n",
              "  'Wired Headphones'],\n",
              " ['USB-C Charging Cable', 'USB-C Charging Cable'],\n",
              " ['USB-C Charging Cable', 'Lightning Charging Cable'],\n",
              " ['Bose SoundSport Headphones', 'Apple Airpods Headphones'],\n",
              " ['Apple Airpods Headphones', 'ThinkPad Laptop'],\n",
              " ['27in FHD Monitor', 'AA Batteries (4-pack)'],\n",
              " ['Macbook Pro Laptop', 'Apple Airpods Headphones'],\n",
              " ['Lightning Charging Cable', 'AAA Batteries (4-pack)'],\n",
              " ['34in Ultrawide Monitor', 'AA Batteries (4-pack)'],\n",
              " ['Apple Airpods Headphones', 'Apple Airpods Headphones'],\n",
              " ['AA Batteries (4-pack)', 'Flatscreen TV'],\n",
              " ['20in Monitor', 'Apple Airpods Headphones'],\n",
              " ['27in 4K Gaming Monitor', 'Flatscreen TV'],\n",
              " ['AAA Batteries (4-pack)', 'USB-C Charging Cable'],\n",
              " ['Bose SoundSport Headphones', '27in 4K Gaming Monitor'],\n",
              " ['Flatscreen TV', '27in FHD Monitor'],\n",
              " ['Google Phone', 'Google Phone'],\n",
              " ['Vareebadd Phone', 'USB-C Charging Cable', 'Bose SoundSport Headphones'],\n",
              " ['Google Phone', '34in Ultrawide Monitor'],\n",
              " ['27in 4K Gaming Monitor', 'Apple Airpods Headphones'],\n",
              " ['Wired Headphones', 'iPhone'],\n",
              " ['Wired Headphones', 'Flatscreen TV'],\n",
              " ['Apple Airpods Headphones', '27in 4K Gaming Monitor'],\n",
              " ['Apple Airpods Headphones', '27in FHD Monitor'],\n",
              " ['iPhone',\n",
              "  'Lightning Charging Cable',\n",
              "  'Apple Airpods Headphones',\n",
              "  'Wired Headphones',\n",
              "  'Google Phone'],\n",
              " ['USB-C Charging Cable', 'iPhone'],\n",
              " ['34in Ultrawide Monitor', 'Wired Headphones'],\n",
              " ['Google Phone', 'Bose SoundSport Headphones'],\n",
              " ['AAA Batteries (4-pack)', 'AA Batteries (4-pack)'],\n",
              " ['Bose SoundSport Headphones', 'Google Phone'],\n",
              " ['Apple Airpods Headphones', 'Google Phone'],\n",
              " ['Google Phone', 'USB-C Charging Cable', 'Apple Airpods Headphones'],\n",
              " ['Vareebadd Phone', 'Wired Headphones'],\n",
              " ['Google Phone', 'USB-C Charging Cable', 'Bose SoundSport Headphones'],\n",
              " ['Apple Airpods Headphones', 'Vareebadd Phone'],\n",
              " ['iPhone', 'iPhone'],\n",
              " ['AAA Batteries (4-pack)', '34in Ultrawide Monitor'],\n",
              " ['USB-C Charging Cable', 'Macbook Pro Laptop'],\n",
              " ['AAA Batteries (4-pack)', 'AAA Batteries (4-pack)'],\n",
              " ['ThinkPad Laptop', 'Bose SoundSport Headphones'],\n",
              " ['27in FHD Monitor', 'Macbook Pro Laptop'],\n",
              " ['iPhone', 'AAA Batteries (4-pack)'],\n",
              " ['Lightning Charging Cable', 'Apple Airpods Headphones'],\n",
              " ['Apple Airpods Headphones', 'AAA Batteries (4-pack)'],\n",
              " ['Bose SoundSport Headphones', '27in FHD Monitor'],\n",
              " ['34in Ultrawide Monitor', 'Bose SoundSport Headphones'],\n",
              " ['Wired Headphones', '20in Monitor'],\n",
              " ['Apple Airpods Headphones', '34in Ultrawide Monitor'],\n",
              " ['Bose SoundSport Headphones', 'AAA Batteries (4-pack)'],\n",
              " ['27in 4K Gaming Monitor', 'Lightning Charging Cable'],\n",
              " ['AA Batteries (4-pack)', 'Wired Headphones'],\n",
              " ['27in FHD Monitor', 'Lightning Charging Cable'],\n",
              " ['AA Batteries (4-pack)', '20in Monitor'],\n",
              " ['27in 4K Gaming Monitor', 'iPhone'],\n",
              " ['Bose SoundSport Headphones', 'Macbook Pro Laptop'],\n",
              " ['AA Batteries (4-pack)', 'iPhone'],\n",
              " ['34in Ultrawide Monitor', 'AAA Batteries (4-pack)'],\n",
              " ['Lightning Charging Cable', 'Flatscreen TV'],\n",
              " ['AA Batteries (4-pack)', 'ThinkPad Laptop'],\n",
              " ['Lightning Charging Cable', 'Wired Headphones'],\n",
              " ['27in 4K Gaming Monitor', '34in Ultrawide Monitor'],\n",
              " ['USB-C Charging Cable', 'Google Phone'],\n",
              " ['Macbook Pro Laptop', 'iPhone'],\n",
              " ['USB-C Charging Cable', 'Flatscreen TV'],\n",
              " ['Wired Headphones', 'Lightning Charging Cable'],\n",
              " ['Vareebadd Phone',\n",
              "  'USB-C Charging Cable',\n",
              "  'Bose SoundSport Headphones',\n",
              "  'Wired Headphones'],\n",
              " ['AAA Batteries (4-pack)', '27in 4K Gaming Monitor'],\n",
              " ['iPhone', 'Lightning Charging Cable'],\n",
              " ['Bose SoundSport Headphones', 'ThinkPad Laptop'],\n",
              " ['Macbook Pro Laptop', 'AAA Batteries (4-pack)'],\n",
              " ['Lightning Charging Cable', 'Google Phone'],\n",
              " ['Wired Headphones', 'ThinkPad Laptop'],\n",
              " ['Lightning Charging Cable', 'iPhone'],\n",
              " ['AA Batteries (4-pack)', 'Macbook Pro Laptop'],\n",
              " ['AAA Batteries (4-pack)', 'Lightning Charging Cable'],\n",
              " ['Apple Airpods Headphones', 'LG Dryer'],\n",
              " ['iPhone', 'Lightning Charging Cable', 'Apple Airpods Headphones'],\n",
              " ['iPhone', 'Wired Headphones'],\n",
              " ['AAA Batteries (4-pack)', '20in Monitor'],\n",
              " ['iPhone',\n",
              "  'Lightning Charging Cable',\n",
              "  'Apple Airpods Headphones',\n",
              "  'Wired Headphones'],\n",
              " ['AA Batteries (4-pack)', 'AAA Batteries (4-pack)'],\n",
              " ['34in Ultrawide Monitor', 'USB-C Charging Cable'],\n",
              " ['AAA Batteries (4-pack)', 'Flatscreen TV'],\n",
              " ['AAA Batteries (4-pack)', 'ThinkPad Laptop'],\n",
              " ['USB-C Charging Cable', '27in 4K Gaming Monitor'],\n",
              " ['20in Monitor', 'Bose SoundSport Headphones'],\n",
              " ['Apple Airpods Headphones', 'Macbook Pro Laptop'],\n",
              " ['LG Washing Machine', 'Lightning Charging Cable'],\n",
              " ['Vareebadd Phone', 'AAA Batteries (4-pack)'],\n",
              " ['27in FHD Monitor', '27in 4K Gaming Monitor'],\n",
              " ['27in FHD Monitor', 'AAA Batteries (4-pack)'],\n",
              " ['27in FHD Monitor', 'Apple Airpods Headphones'],\n",
              " ['Macbook Pro Laptop', 'AA Batteries (4-pack)'],\n",
              " ['Lightning Charging Cable', '27in FHD Monitor'],\n",
              " ['AAA Batteries (4-pack)', 'Wired Headphones'],\n",
              " ['USB-C Charging Cable', '20in Monitor'],\n",
              " ['USB-C Charging Cable', 'Apple Airpods Headphones'],\n",
              " ['27in 4K Gaming Monitor', '27in 4K Gaming Monitor'],\n",
              " ['Google Phone',\n",
              "  'USB-C Charging Cable',\n",
              "  'Bose SoundSport Headphones',\n",
              "  'Wired Headphones'],\n",
              " ['Vareebadd Phone', 'USB-C Charging Cable', 'Wired Headphones'],\n",
              " ['iPhone', 'LG Washing Machine'],\n",
              " ['Google Phone', 'USB-C Charging Cable'],\n",
              " ['Vareebadd Phone', 'AA Batteries (4-pack)'],\n",
              " ['27in 4K Gaming Monitor', 'AA Batteries (4-pack)'],\n",
              " ['Wired Headphones', 'Wired Headphones'],\n",
              " ['Google Phone', 'Lightning Charging Cable'],\n",
              " ['Apple Airpods Headphones', '20in Monitor'],\n",
              " ['Lightning Charging Cable', '20in Monitor'],\n",
              " ['Bose SoundSport Headphones', 'Wired Headphones'],\n",
              " ['Wired Headphones', '34in Ultrawide Monitor'],\n",
              " ['34in Ultrawide Monitor', 'Flatscreen TV'],\n",
              " ['Google Phone', 'USB-C Charging Cable', 'Wired Headphones'],\n",
              " ['iPhone', 'Lightning Charging Cable', '27in 4K Gaming Monitor'],\n",
              " ['Macbook Pro Laptop', 'Wired Headphones'],\n",
              " ['Apple Airpods Headphones', 'Wired Headphones'],\n",
              " ['AA Batteries (4-pack)', '27in FHD Monitor'],\n",
              " ['AAA Batteries (4-pack)', 'Macbook Pro Laptop'],\n",
              " ['Google Phone', 'Bose SoundSport Headphones', 'Wired Headphones'],\n",
              " ['USB-C Charging Cable', '34in Ultrawide Monitor'],\n",
              " ['Flatscreen TV', 'USB-C Charging Cable'],\n",
              " ['Wired Headphones', 'AA Batteries (4-pack)'],\n",
              " ['Wired Headphones', 'Bose SoundSport Headphones'],\n",
              " ['iPhone', 'AA Batteries (4-pack)'],\n",
              " ['ThinkPad Laptop', 'USB-C Charging Cable'],\n",
              " ['USB-C Charging Cable', 'ThinkPad Laptop'],\n",
              " ['Google Phone', 'Flatscreen TV'],\n",
              " ['Apple Airpods Headphones', 'Lightning Charging Cable'],\n",
              " ['AA Batteries (4-pack)', 'Google Phone'],\n",
              " ['34in Ultrawide Monitor', '27in FHD Monitor'],\n",
              " ['iPhone', 'Flatscreen TV'],\n",
              " ['Macbook Pro Laptop', 'Macbook Pro Laptop'],\n",
              " ['Flatscreen TV', 'AA Batteries (4-pack)'],\n",
              " ['LG Dryer', 'AAA Batteries (4-pack)'],\n",
              " ['Wired Headphones', '27in 4K Gaming Monitor'],\n",
              " ['34in Ultrawide Monitor', 'LG Washing Machine'],\n",
              " ['Flatscreen TV', 'Flatscreen TV'],\n",
              " ['27in 4K Gaming Monitor', 'Macbook Pro Laptop'],\n",
              " ['20in Monitor', 'USB-C Charging Cable'],\n",
              " ['USB-C Charging Cable', 'AAA Batteries (4-pack)'],\n",
              " ['Google Phone', 'Wired Headphones'],\n",
              " ['Bose SoundSport Headphones', 'AA Batteries (4-pack)'],\n",
              " ['AA Batteries (4-pack)', '27in 4K Gaming Monitor'],\n",
              " ['34in Ultrawide Monitor', 'Google Phone'],\n",
              " ['27in FHD Monitor', '20in Monitor'],\n",
              " ['AAA Batteries (4-pack)', 'Vareebadd Phone'],\n",
              " ['USB-C Charging Cable', '27in FHD Monitor'],\n",
              " ['Google Phone', 'USB-C Charging Cable', 'AA Batteries (4-pack)'],\n",
              " ['Macbook Pro Laptop', '27in FHD Monitor'],\n",
              " ['iPhone', 'Lightning Charging Cable', 'Wired Headphones'],\n",
              " ['AAA Batteries (4-pack)', 'Bose SoundSport Headphones'],\n",
              " ['Google Phone', 'AA Batteries (4-pack)'],\n",
              " ['Lightning Charging Cable', 'Macbook Pro Laptop'],\n",
              " ['Wired Headphones', '27in FHD Monitor'],\n",
              " ['ThinkPad Laptop', 'AAA Batteries (4-pack)'],\n",
              " ['Google Phone', 'Bose SoundSport Headphones', '27in FHD Monitor'],\n",
              " ['Wired Headphones', 'Vareebadd Phone'],\n",
              " ['Lightning Charging Cable', 'LG Washing Machine'],\n",
              " ['AA Batteries (4-pack)', 'Apple Airpods Headphones'],\n",
              " ['34in Ultrawide Monitor', '34in Ultrawide Monitor'],\n",
              " ['20in Monitor', 'Wired Headphones'],\n",
              " ['iPhone', '34in Ultrawide Monitor'],\n",
              " ['USB-C Charging Cable', 'Vareebadd Phone'],\n",
              " ['iPhone', 'Macbook Pro Laptop'],\n",
              " ['AAA Batteries (4-pack)', 'Google Phone'],\n",
              " ['Macbook Pro Laptop', '34in Ultrawide Monitor'],\n",
              " ['Bose SoundSport Headphones', 'iPhone'],\n",
              " ['20in Monitor', 'AAA Batteries (4-pack)'],\n",
              " ['Vareebadd Phone', 'ThinkPad Laptop'],\n",
              " ['Vareebadd Phone', 'Flatscreen TV'],\n",
              " ['Lightning Charging Cable', 'Bose SoundSport Headphones'],\n",
              " ['Apple Airpods Headphones', 'AA Batteries (4-pack)'],\n",
              " ['34in Ultrawide Monitor', 'Apple Airpods Headphones'],\n",
              " ['AA Batteries (4-pack)', '34in Ultrawide Monitor'],\n",
              " ['Flatscreen TV', 'Lightning Charging Cable'],\n",
              " ['Macbook Pro Laptop', 'Bose SoundSport Headphones'],\n",
              " ['Google Phone', 'USB-C Charging Cable', 'AAA Batteries (4-pack)'],\n",
              " ['AAA Batteries (4-pack)', '27in FHD Monitor'],\n",
              " ['iPhone', 'Lightning Charging Cable', 'AA Batteries (4-pack)'],\n",
              " ['Vareebadd Phone', '27in 4K Gaming Monitor'],\n",
              " ['Vareebadd Phone', 'Apple Airpods Headphones'],\n",
              " ['Lightning Charging Cable', '34in Ultrawide Monitor'],\n",
              " ['iPhone', 'Lightning Charging Cable', 'Lightning Charging Cable'],\n",
              " ['AA Batteries (4-pack)', 'USB-C Charging Cable'],\n",
              " ['Apple Airpods Headphones', 'Bose SoundSport Headphones'],\n",
              " ['Apple Airpods Headphones', 'USB-C Charging Cable'],\n",
              " ['iPhone', 'Apple Airpods Headphones', 'Wired Headphones'],\n",
              " ['iPhone', 'ThinkPad Laptop'],\n",
              " ['AA Batteries (4-pack)', 'Bose SoundSport Headphones'],\n",
              " ['27in FHD Monitor', 'Wired Headphones'],\n",
              " ['Bose SoundSport Headphones', 'Lightning Charging Cable'],\n",
              " ['AA Batteries (4-pack)', 'Lightning Charging Cable'],\n",
              " ['Lightning Charging Cable', 'AA Batteries (4-pack)'],\n",
              " ['ThinkPad Laptop', 'Flatscreen TV'],\n",
              " ['Bose SoundSport Headphones', '20in Monitor'],\n",
              " ['AAA Batteries (4-pack)', 'Apple Airpods Headphones'],\n",
              " ['Bose SoundSport Headphones', 'USB-C Charging Cable'],\n",
              " ['ThinkPad Laptop', 'AA Batteries (4-pack)'],\n",
              " ['Google Phone', 'AAA Batteries (4-pack)'],\n",
              " ['Apple Airpods Headphones', 'iPhone'],\n",
              " ['Wired Headphones', 'USB-C Charging Cable'],\n",
              " ['27in FHD Monitor', '27in FHD Monitor'],\n",
              " ['Macbook Pro Laptop', '27in 4K Gaming Monitor']]"
            ]
          },
          "metadata": {
            "tags": []
          },
          "execution_count": 127
        }
      ]
    },
    {
      "cell_type": "markdown",
      "metadata": {
        "id": "WvNfv4xT9oW-",
        "colab_type": "text"
      },
      "source": [
        "#Converting Prod List to Dictionary and Sorting in Descending order "
      ]
    },
    {
      "cell_type": "code",
      "metadata": {
        "id": "Yp6M_UbpRD2a",
        "colab_type": "code",
        "colab": {
          "base_uri": "https://localhost:8080/",
          "height": 73
        },
        "outputId": "d5926f25-e0b1-4143-e0e5-3bd9e4166a9b"
      },
      "source": [
        "Output = {} \n",
        "  \n",
        "for lis in Prod: \n",
        "    Output.setdefault(tuple(lis), list()).append(1) \n",
        "for a, b in Output.items(): \n",
        "    Output[a] = sum(b) \n",
        "\n",
        "Output={k: v for k, v in sorted(Output.items(), key=lambda item: item[1],reverse=True)}   \n",
        "print(\"Total Number Of Combination:\",len(Output))\n",
        "\n",
        "print(Output)"
      ],
      "execution_count": 129,
      "outputs": [
        {
          "output_type": "stream",
          "text": [
            "Total Number Of Combination: 249\n",
            "{('iPhone', 'Lightning Charging Cable'): 213, ('Google Phone', 'USB-C Charging Cable'): 211, ('iPhone', 'Wired Headphones'): 83, ('iPhone', 'Apple Airpods Headphones'): 73, ('Vareebadd Phone', 'USB-C Charging Cable'): 72, ('Google Phone', 'Wired Headphones'): 64, ('Google Phone', 'Bose SoundSport Headphones'): 40, ('Vareebadd Phone', 'Wired Headphones'): 25, ('iPhone', 'Lightning Charging Cable', 'Wired Headphones'): 20, ('Google Phone', 'USB-C Charging Cable', 'Wired Headphones'): 18, ('Lightning Charging Cable', 'Lightning Charging Cable'): 17, ('Vareebadd Phone', 'Bose SoundSport Headphones'): 17, ('AA Batteries (4-pack)', 'Wired Headphones'): 15, ('AA Batteries (4-pack)', 'Lightning Charging Cable'): 15, ('AA Batteries (4-pack)', 'USB-C Charging Cable'): 14, ('Lightning Charging Cable', 'Bose SoundSport Headphones'): 13, ('Vareebadd Phone', 'USB-C Charging Cable', 'Wired Headphones'): 13, ('AAA Batteries (4-pack)', 'USB-C Charging Cable'): 13, ('Wired Headphones', 'AAA Batteries (4-pack)'): 12, ('USB-C Charging Cable', 'USB-C Charging Cable'): 12, ('AA Batteries (4-pack)', 'AAA Batteries (4-pack)'): 11, ('USB-C Charging Cable', 'Wired Headphones'): 11, ('USB-C Charging Cable', 'Lightning Charging Cable'): 11, ('AAA Batteries (4-pack)', 'Lightning Charging Cable'): 11, ('Wired Headphones', 'Lightning Charging Cable'): 11, ('Wired Headphones', 'USB-C Charging Cable'): 11, ('Wired Headphones', 'AA Batteries (4-pack)'): 11, ('iPhone', 'Lightning Charging Cable', 'Apple Airpods Headphones'): 10, ('USB-C Charging Cable', '27in FHD Monitor'): 10, ('34in Ultrawide Monitor', 'AA Batteries (4-pack)'): 10, ('iPhone', 'Apple Airpods Headphones', 'Wired Headphones'): 10, ('Apple Airpods Headphones', 'AAA Batteries (4-pack)'): 10, ('USB-C Charging Cable', 'AA Batteries (4-pack)'): 10, ('Wired Headphones', 'Wired Headphones'): 9, ('Bose SoundSport Headphones', 'Lightning Charging Cable'): 9, ('AAA Batteries (4-pack)', 'AAA Batteries (4-pack)'): 9, ('AA Batteries (4-pack)', 'AA Batteries (4-pack)'): 9, ('Bose SoundSport Headphones', 'AA Batteries (4-pack)'): 9, ('AA Batteries (4-pack)', 'Bose SoundSport Headphones'): 9, ('Lightning Charging Cable', 'AA Batteries (4-pack)'): 9, ('Lightning Charging Cable', 'Apple Airpods Headphones'): 8, ('27in FHD Monitor', 'AAA Batteries (4-pack)'): 8, ('Bose SoundSport Headphones', 'USB-C Charging Cable'): 8, ('Apple Airpods Headphones', 'Bose SoundSport Headphones'): 8, ('Bose SoundSport Headphones', 'AAA Batteries (4-pack)'): 8, ('27in FHD Monitor', 'Bose SoundSport Headphones'): 7, ('Wired Headphones', 'Bose SoundSport Headphones'): 7, ('Lightning Charging Cable', 'USB-C Charging Cable'): 7, ('Wired Headphones', 'Apple Airpods Headphones'): 7, ('AAA Batteries (4-pack)', 'Apple Airpods Headphones'): 7, ('Lightning Charging Cable', 'AAA Batteries (4-pack)'): 7, ('Apple Airpods Headphones', 'AA Batteries (4-pack)'): 7, ('AAA Batteries (4-pack)', 'Wired Headphones'): 7, ('USB-C Charging Cable', 'AAA Batteries (4-pack)'): 7, ('USB-C Charging Cable', 'Apple Airpods Headphones'): 7, ('Bose SoundSport Headphones', 'Apple Airpods Headphones'): 6, ('Lightning Charging Cable', 'Google Phone'): 6, ('AA Batteries (4-pack)', 'Apple Airpods Headphones'): 6, ('Apple Airpods Headphones', 'Wired Headphones'): 6, ('AAA Batteries (4-pack)', 'AA Batteries (4-pack)'): 6, ('Apple Airpods Headphones', 'Google Phone'): 6, ('Apple Airpods Headphones', 'Lightning Charging Cable'): 6, ('Lightning Charging Cable', '27in 4K Gaming Monitor'): 6, ('20in Monitor', 'USB-C Charging Cable'): 6, ('Apple Airpods Headphones', 'USB-C Charging Cable'): 5, ('AAA Batteries (4-pack)', 'Bose SoundSport Headphones'): 5, ('Bose SoundSport Headphones', '27in 4K Gaming Monitor'): 5, ('ThinkPad Laptop', 'Lightning Charging Cable'): 5, ('Lightning Charging Cable', 'Wired Headphones'): 5, ('Bose SoundSport Headphones', 'Bose SoundSport Headphones'): 5, ('USB-C Charging Cable', 'Google Phone'): 5, ('Bose SoundSport Headphones', 'Wired Headphones'): 5, ('34in Ultrawide Monitor', 'Wired Headphones'): 5, ('Google Phone', 'Bose SoundSport Headphones', 'Wired Headphones'): 5, ('USB-C Charging Cable', 'Bose SoundSport Headphones'): 5, ('AAA Batteries (4-pack)', '34in Ultrawide Monitor'): 4, ('Google Phone', 'USB-C Charging Cable', 'Bose SoundSport Headphones'): 4, ('AAA Batteries (4-pack)', 'Macbook Pro Laptop'): 4, ('Apple Airpods Headphones', 'Apple Airpods Headphones'): 4, ('Wired Headphones', 'ThinkPad Laptop'): 4, ('Bose SoundSport Headphones', 'Flatscreen TV'): 4, ('USB-C Charging Cable', 'iPhone'): 4, ('34in Ultrawide Monitor', 'Bose SoundSport Headphones'): 4, ('ThinkPad Laptop', 'AAA Batteries (4-pack)'): 4, ('Macbook Pro Laptop', 'Apple Airpods Headphones'): 4, ('20in Monitor', 'Bose SoundSport Headphones'): 4, ('Apple Airpods Headphones', 'ThinkPad Laptop'): 4, ('AA Batteries (4-pack)', 'Macbook Pro Laptop'): 4, ('Bose SoundSport Headphones', 'iPhone'): 4, ('AAA Batteries (4-pack)', 'iPhone'): 4, ('Wired Headphones', 'Vareebadd Phone'): 4, ('Lightning Charging Cable', '20in Monitor'): 4, ('27in FHD Monitor', '27in FHD Monitor'): 4, ('Wired Headphones', '34in Ultrawide Monitor'): 4, ('Bose SoundSport Headphones', '34in Ultrawide Monitor'): 4, ('Flatscreen TV', 'AAA Batteries (4-pack)'): 4, ('27in FHD Monitor', '27in 4K Gaming Monitor'): 3, ('USB-C Charging Cable', '27in 4K Gaming Monitor'): 3, ('27in 4K Gaming Monitor', 'USB-C Charging Cable'): 3, ('27in FHD Monitor', 'Wired Headphones'): 3, ('Flatscreen TV', 'Google Phone'): 3, ('Bose SoundSport Headphones', '27in FHD Monitor'): 3, ('Apple Airpods Headphones', '27in FHD Monitor'): 3, ('Lightning Charging Cable', '34in Ultrawide Monitor'): 3, ('27in 4K Gaming Monitor', 'Macbook Pro Laptop'): 3, ('Google Phone', 'AA Batteries (4-pack)'): 3, ('USB-C Charging Cable', 'Macbook Pro Laptop'): 3, ('iPhone', 'USB-C Charging Cable'): 3, ('Apple Airpods Headphones', 'Macbook Pro Laptop'): 3, ('Lightning Charging Cable', 'Macbook Pro Laptop'): 3, ('34in Ultrawide Monitor', '34in Ultrawide Monitor'): 3, ('iPhone', 'AAA Batteries (4-pack)'): 3, ('Wired Headphones', '27in FHD Monitor'): 3, ('Lightning Charging Cable', 'iPhone'): 3, ('34in Ultrawide Monitor', 'USB-C Charging Cable'): 3, ('AA Batteries (4-pack)', 'iPhone'): 3, ('27in 4K Gaming Monitor', 'AAA Batteries (4-pack)'): 3, ('ThinkPad Laptop', 'Bose SoundSport Headphones'): 3, ('Wired Headphones', 'iPhone'): 3, ('27in FHD Monitor', 'AA Batteries (4-pack)'): 3, ('Lightning Charging Cable', '27in FHD Monitor'): 3, ('iPhone', 'AA Batteries (4-pack)'): 3, ('Wired Headphones', 'Macbook Pro Laptop'): 3, ('ThinkPad Laptop', 'USB-C Charging Cable'): 3, ('Macbook Pro Laptop', 'Bose SoundSport Headphones'): 3, ('USB-C Charging Cable', 'ThinkPad Laptop'): 3, ('27in FHD Monitor', 'Lightning Charging Cable'): 3, ('Lightning Charging Cable', 'LG Washing Machine'): 3, ('27in FHD Monitor', 'USB-C Charging Cable'): 3, ('AAA Batteries (4-pack)', '27in FHD Monitor'): 3, ('Wired Headphones', '27in 4K Gaming Monitor'): 3, ('20in Monitor', 'Wired Headphones'): 2, ('34in Ultrawide Monitor', 'Lightning Charging Cable'): 2, ('AAA Batteries (4-pack)', 'Flatscreen TV'): 2, ('USB-C Charging Cable', '20in Monitor'): 2, ('27in 4K Gaming Monitor', 'iPhone'): 2, ('27in 4K Gaming Monitor', 'AA Batteries (4-pack)'): 2, ('AA Batteries (4-pack)', 'Google Phone'): 2, ('Lightning Charging Cable', 'Flatscreen TV'): 2, ('Lightning Charging Cable', 'ThinkPad Laptop'): 2, ('AA Batteries (4-pack)', '27in 4K Gaming Monitor'): 2, ('34in Ultrawide Monitor', '27in FHD Monitor'): 2, ('Flatscreen TV', '27in FHD Monitor'): 2, ('AAA Batteries (4-pack)', 'Google Phone'): 2, ('Macbook Pro Laptop', '34in Ultrawide Monitor'): 2, ('Flatscreen TV', 'Lightning Charging Cable'): 2, ('USB-C Charging Cable', 'Vareebadd Phone'): 2, ('Google Phone', '27in FHD Monitor'): 2, ('Apple Airpods Headphones', '27in 4K Gaming Monitor'): 2, ('Apple Airpods Headphones', 'Flatscreen TV'): 2, ('34in Ultrawide Monitor', 'Apple Airpods Headphones'): 2, ('Flatscreen TV', 'iPhone'): 2, ('Google Phone', 'AAA Batteries (4-pack)'): 2, ('Google Phone', 'Lightning Charging Cable'): 2, ('Flatscreen TV', 'AA Batteries (4-pack)'): 2, ('USB-C Charging Cable', 'Flatscreen TV'): 2, ('Macbook Pro Laptop', '27in 4K Gaming Monitor'): 2, ('iPhone', 'Lightning Charging Cable', 'AA Batteries (4-pack)'): 2, ('Apple Airpods Headphones', 'Vareebadd Phone'): 2, ('Macbook Pro Laptop', 'USB-C Charging Cable'): 2, ('34in Ultrawide Monitor', 'AAA Batteries (4-pack)'): 2, ('iPhone', 'Flatscreen TV'): 2, ('AAA Batteries (4-pack)', '27in 4K Gaming Monitor'): 2, ('USB-C Charging Cable', '34in Ultrawide Monitor'): 2, ('AA Batteries (4-pack)', '27in FHD Monitor'): 2, ('Vareebadd Phone', 'Flatscreen TV'): 2, ('AA Batteries (4-pack)', 'ThinkPad Laptop'): 2, ('27in 4K Gaming Monitor', 'Apple Airpods Headphones'): 2, ('AAA Batteries (4-pack)', '20in Monitor'): 2, ('27in 4K Gaming Monitor', '27in 4K Gaming Monitor'): 2, ('Vareebadd Phone', 'USB-C Charging Cable', 'Bose SoundSport Headphones'): 2, ('Vareebadd Phone', 'USB-C Charging Cable', 'Bose SoundSport Headphones', 'Wired Headphones'): 2, ('AAA Batteries (4-pack)', 'ThinkPad Laptop'): 2, ('Google Phone', 'iPhone'): 1, ('Bose SoundSport Headphones', 'Google Phone'): 1, ('Macbook Pro Laptop', 'AA Batteries (4-pack)'): 1, ('Vareebadd Phone', 'AAA Batteries (4-pack)'): 1, ('LG Dryer', 'AA Batteries (4-pack)'): 1, ('Apple Airpods Headphones', 'iPhone'): 1, ('Google Phone', 'USB-C Charging Cable', 'Apple Airpods Headphones'): 1, ('Macbook Pro Laptop', 'iPhone'): 1, ('27in FHD Monitor', 'Macbook Pro Laptop'): 1, ('27in FHD Monitor', '20in Monitor'): 1, ('ThinkPad Laptop', 'AA Batteries (4-pack)'): 1, ('iPhone', 'Lightning Charging Cable', 'Apple Airpods Headphones', 'Wired Headphones', 'Google Phone'): 1, ('iPhone', 'ThinkPad Laptop'): 1, ('LG Washing Machine', 'Lightning Charging Cable'): 1, ('Google Phone', 'USB-C Charging Cable', 'AAA Batteries (4-pack)'): 1, ('iPhone', 'Lightning Charging Cable', '27in 4K Gaming Monitor'): 1, ('Vareebadd Phone', '27in 4K Gaming Monitor'): 1, ('Apple Airpods Headphones', '20in Monitor'): 1, ('iPhone', 'Lightning Charging Cable', 'Lightning Charging Cable'): 1, ('Vareebadd Phone', 'ThinkPad Laptop'): 1, ('27in 4K Gaming Monitor', 'Lightning Charging Cable'): 1, ('Bose SoundSport Headphones', '20in Monitor'): 1, ('AA Batteries (4-pack)', '34in Ultrawide Monitor'): 1, ('Apple Airpods Headphones', '34in Ultrawide Monitor'): 1, ('Google Phone', 'USB-C Charging Cable', 'Wired Headphones', 'USB-C Charging Cable'): 1, ('Wired Headphones', 'Flatscreen TV'): 1, ('Bose SoundSport Headphones', 'ThinkPad Laptop'): 1, ('20in Monitor', 'Macbook Pro Laptop'): 1, ('Vareebadd Phone', '34in Ultrawide Monitor'): 1, ('Vareebadd Phone', 'AA Batteries (4-pack)'): 1, ('27in 4K Gaming Monitor', '34in Ultrawide Monitor'): 1, ('34in Ultrawide Monitor', 'Google Phone'): 1, ('AA Batteries (4-pack)', 'Vareebadd Phone'): 1, ('Google Phone', 'USB-C Charging Cable', 'Bose SoundSport Headphones', 'Wired Headphones'): 1, ('Bose SoundSport Headphones', 'Macbook Pro Laptop'): 1, ('AA Batteries (4-pack)', '20in Monitor'): 1, ('Macbook Pro Laptop', 'Macbook Pro Laptop'): 1, ('iPhone', 'Wired Headphones', 'Lightning Charging Cable'): 1, ('34in Ultrawide Monitor', 'LG Washing Machine'): 1, ('iPhone', 'iPhone'): 1, ('iPhone', '34in Ultrawide Monitor'): 1, ('Google Phone', '27in 4K Gaming Monitor'): 1, ('ThinkPad Laptop', 'Flatscreen TV'): 1, ('Google Phone', 'Bose SoundSport Headphones', '27in FHD Monitor'): 1, ('27in FHD Monitor', 'Apple Airpods Headphones'): 1, ('AA Batteries (4-pack)', 'Flatscreen TV'): 1, ('20in Monitor', 'Apple Airpods Headphones'): 1, ('20in Monitor', '34in Ultrawide Monitor'): 1, ('Google Phone', 'Google Phone'): 1, ('Google Phone', 'USB-C Charging Cable', 'Wired Headphones', 'Wired Headphones'): 1, ('20in Monitor', 'Lightning Charging Cable'): 1, ('34in Ultrawide Monitor', '20in Monitor'): 1, ('Flatscreen TV', 'USB-C Charging Cable'): 1, ('34in Ultrawide Monitor', 'Flatscreen TV'): 1, ('27in 4K Gaming Monitor', 'Flatscreen TV'): 1, ('LG Dryer', 'AAA Batteries (4-pack)'): 1, ('iPhone', 'LG Washing Machine'): 1, ('27in 4K Gaming Monitor', 'Google Phone'): 1, ('iPhone', 'Macbook Pro Laptop'): 1, ('Macbook Pro Laptop', 'Wired Headphones'): 1, ('AAA Batteries (4-pack)', 'Vareebadd Phone'): 1, ('Google Phone', 'USB-C Charging Cable', 'AA Batteries (4-pack)'): 1, ('Wired Headphones', '20in Monitor'): 1, ('Macbook Pro Laptop', '27in FHD Monitor'): 1, ('20in Monitor', 'AAA Batteries (4-pack)'): 1, ('iPhone', '27in 4K Gaming Monitor'): 1, ('Apple Airpods Headphones', 'LG Dryer'): 1, ('Flatscreen TV', 'Flatscreen TV'): 1, ('Vareebadd Phone', 'Apple Airpods Headphones'): 1, ('Macbook Pro Laptop', 'Google Phone'): 1, ('Wired Headphones', 'LG Washing Machine'): 1, ('Macbook Pro Laptop', 'AAA Batteries (4-pack)'): 1, ('Google Phone', '34in Ultrawide Monitor'): 1, ('Google Phone', 'Flatscreen TV'): 1, ('Wired Headphones', 'Google Phone'): 1, ('iPhone', 'Lightning Charging Cable', 'Apple Airpods Headphones', 'Wired Headphones'): 1}\n"
          ],
          "name": "stdout"
        }
      ]
    },
    {
      "cell_type": "markdown",
      "metadata": {
        "id": "3-Ql8DBy9H4C",
        "colab_type": "text"
      },
      "source": [
        "#Let's Try the Recommendation"
      ]
    },
    {
      "cell_type": "code",
      "metadata": {
        "id": "3-O6iHNh9DIJ",
        "colab_type": "code",
        "colab": {
          "base_uri": "https://localhost:8080/",
          "height": 53
        },
        "outputId": "05a39e9b-91f8-4528-99e6-406e3afac519"
      },
      "source": [
        "uin = input(\"Enter Product:\")\n",
        "\n",
        "ke=uin\n",
        "for i in Output.keys():\n",
        "    if uin in str(i):\n",
        "        res = [val for key, val in Output.items() if ke in key]\n",
        "        #print(res)\n",
        "        recm=max(res)\n",
        "        #print(recm)\n",
        "        for item in Output: \n",
        "          if Output[item]==recm:\n",
        "            recm=item\n",
        "         \n",
        "print(\"Recommended Items:\",item)"
      ],
      "execution_count": 134,
      "outputs": [
        {
          "output_type": "stream",
          "text": [
            "Enter Product:iPhone\n",
            "Recommended Items: ('iPhone', 'Lightning Charging Cable', 'Apple Airpods Headphones', 'Wired Headphones')\n"
          ],
          "name": "stdout"
        }
      ]
    },
    {
      "cell_type": "code",
      "metadata": {
        "id": "gXizOQUoAD-7",
        "colab_type": "code",
        "colab": {
          "base_uri": "https://localhost:8080/",
          "height": 53
        },
        "outputId": "2bbed528-0c82-495f-a14d-f10cb1c7d1ae"
      },
      "source": [
        "uin = input(\"Enter Product:\")\n",
        "\n",
        "ke=uin\n",
        "for i in Output.keys():\n",
        "    if uin in str(i):\n",
        "        res = [val for key, val in Output.items() if ke in key]\n",
        "        #print(res)\n",
        "        recm=max(res)\n",
        "        #print(recm)\n",
        "        for item in Output: \n",
        "          if Output[item]==recm:\n",
        "            recm=item\n",
        "         \n",
        "print(\"Recommended Items:\",recm)"
      ],
      "execution_count": 135,
      "outputs": [
        {
          "output_type": "stream",
          "text": [
            "Enter Product:Google Phone\n",
            "Recommended Items: ('Google Phone', 'USB-C Charging Cable')\n"
          ],
          "name": "stdout"
        }
      ]
    },
    {
      "cell_type": "markdown",
      "metadata": {
        "id": "8upArjFD9Z4m",
        "colab_type": "text"
      },
      "source": [
        "#Hence, we conclude the most suitable list of items for certain Products.**bold text**"
      ]
    },
    {
      "cell_type": "code",
      "metadata": {
        "id": "YAmx4pzSi6qM",
        "colab_type": "code",
        "colab": {}
      },
      "source": [
        ""
      ],
      "execution_count": null,
      "outputs": []
    }
  ]
}